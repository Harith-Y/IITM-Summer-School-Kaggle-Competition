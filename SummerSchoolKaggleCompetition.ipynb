{
  "cells": [
    {
      "cell_type": "code",
      "execution_count": null,
      "metadata": {
        "id": "ZyX7MRrb5bWd"
      },
      "outputs": [],
      "source": [
        "# This Python 3 environment comes with many helpful analytics libraries installed\n",
        "# It is defined by the kaggle/python Docker image: https://github.com/kaggle/docker-python\n",
        "# For example, here's several helpful packages to load\n",
        "\n",
        "import numpy as np # linear algebra\n",
        "import pandas as pd # data processing, CSV file I/O (e.g. pd.read_csv)\n",
        "\n",
        "# Input data files are available in the read-only \"../input/\" directory\n",
        "# For example, running this (by clicking run or pressing Shift+Enter) will list all files under the input directory\n",
        "\"\"\"\n",
        "import os\n",
        "for dirname, _, filenames in os.walk('/kaggle/input'):\n",
        "    for filename in filenames:\n",
        "        print(os.path.join(dirname, filename))\n",
        "\"\"\"\n",
        "# You can write up to 20GB to the current directory (/kaggle/working/) that gets preserved as output when you create a version using \"Save & Run All\"\n",
        "# You can also write temporary files to /kaggle/temp/, but they won't be saved outside of the current session"
      ]
    },
    {
      "cell_type": "code",
      "execution_count": null,
      "metadata": {
        "id": "0mGgZndI5mZZ"
      },
      "outputs": [],
      "source": [
        "train_df = pd.read_csv('./kaggle/input/dataset-a/train.csv')\n",
        "train_df.head()"
      ]
    },
    {
      "cell_type": "code",
      "execution_count": null,
      "metadata": {
        "id": "0ntvGctA5oCr"
      },
      "outputs": [],
      "source": [
        "test_df = pd.read_csv('./kaggle/input/dataset-a/test.csv')\n",
        "test_df.head()"
      ]
    },
    {
      "cell_type": "code",
      "execution_count": null,
      "metadata": {
        "id": "e2LWtNoJ5qFZ"
      },
      "outputs": [],
      "source": [
        "missing_values_train = train_df.isnull().sum()\n",
        "\n",
        "missing_values_test = test_df.isnull().sum()\n",
        "\n",
        "missing_values_train, missing_values_test"
      ]
    },
    {
      "cell_type": "code",
      "execution_count": null,
      "metadata": {
        "id": "1l441mPG5r4W"
      },
      "outputs": [],
      "source": [
        "from sklearn.impute import SimpleImputer\n",
        "from sklearn.preprocessing import OneHotEncoder\n",
        "from sklearn.compose import ColumnTransformer\n",
        "from sklearn.pipeline import Pipeline\n",
        "from sklearn.ensemble import RandomForestClassifier\n",
        "from sklearn.model_selection import train_test_split, cross_val_score\n",
        "\n",
        "train_df = pd.read_csv('./kaggle/input/dataset-a/train.csv')\n",
        "test_df = pd.read_csv('./kaggle/input/dataset-a/test.csv')\n",
        "\n",
        "num_imputer = SimpleImputer(strategy='median')\n",
        "train_df[['Age', 'RoomService', 'FoodCourt', 'ShoppingMall', 'Spa', 'VRDeck']] = num_imputer.fit_transform(train_df[['Age', 'RoomService', 'FoodCourt', 'ShoppingMall', 'Spa', 'VRDeck']])\n",
        "test_df[['Age', 'RoomService', 'FoodCourt', 'ShoppingMall', 'Spa', 'VRDeck']] = num_imputer.transform(test_df[['Age', 'RoomService', 'FoodCourt', 'ShoppingMall', 'Spa', 'VRDeck']])\n",
        "\n",
        "cat_imputer = SimpleImputer(strategy='most_frequent')\n",
        "train_df[['HomePlanet', 'CryoSleep', 'Cabin', 'Destination', 'VIP', 'Name']] = cat_imputer.fit_transform(train_df[['HomePlanet', 'CryoSleep', 'Cabin', 'Destination', 'VIP', 'Name']])\n",
        "test_df[['HomePlanet', 'CryoSleep', 'Cabin', 'Destination', 'VIP', 'Name']] = cat_imputer.transform(test_df[['HomePlanet', 'CryoSleep', 'Cabin', 'Destination', 'VIP', 'Name']])\n",
        "\n",
        "train_df = train_df.drop(columns=['Name'])\n",
        "test_df = test_df.drop(columns=['Name'])\n",
        "\n",
        "combined_df = pd.concat([train_df.drop(columns=['Transported']), test_df], ignore_index=True)\n",
        "\n",
        "ohe = OneHotEncoder(handle_unknown='ignore', sparse_output=False)\n",
        "encoded_columns = ohe.fit_transform(combined_df[['HomePlanet', 'CryoSleep', 'Cabin', 'Destination', 'VIP']])\n",
        "\n",
        "encoded_df = pd.DataFrame(encoded_columns, columns=ohe.get_feature_names_out())\n",
        "encoded_df.index = combined_df.index\n",
        "\n",
        "combined_df = pd.concat([combined_df.reset_index(drop=True), encoded_df.reset_index(drop=True)], axis=1)\n",
        "combined_df = combined_df.drop(columns=['HomePlanet', 'CryoSleep', 'Cabin', 'Destination', 'VIP'])\n",
        "\n",
        "X_train = combined_df.iloc[:len(train_df), :]\n",
        "X_test = combined_df.iloc[len(train_df):, :]\n",
        "y_train = train_df['Transported']\n",
        "\n",
        "X_train_split, X_val, y_train_split, y_val = train_test_split(X_train, y_train, test_size=0.2, random_state=42)\n",
        "\n",
        "rf = RandomForestClassifier(n_estimators=100, random_state=42)\n",
        "rf.fit(X_train_split, y_train_split)\n",
        "\n",
        "cv_scores = cross_val_score(rf, X_train_split, y_train_split, cv=5)\n",
        "print(f'Cross-validation accuracy: {np.mean(cv_scores):.4f}')\n",
        "\n",
        "val_predictions = rf.predict(X_val)\n",
        "val_accuracy = np.mean(val_predictions == y_val)\n",
        "print(f'Validation accuracy: {val_accuracy:.4f}')\n",
        "\n",
        "test_predictions = rf.predict(X_test)\n",
        "\n",
        "submission_df = pd.DataFrame({'PassengerId': test_df['PassengerId'], 'Transported': test_predictions})\n",
        "submission_df['Transported'] = submission_df['Transported'].astype(bool)\n",
        "submission_df.to_csv('./kaggle/working/submission.csv', index=False)"
      ]
    }
  ],
  "metadata": {
    "colab": {
      "provenance": []
    },
    "kernelspec": {
      "display_name": "Python 3",
      "name": "python3"
    },
    "language_info": {
      "name": "python"
    }
  },
  "nbformat": 4,
  "nbformat_minor": 0
}
